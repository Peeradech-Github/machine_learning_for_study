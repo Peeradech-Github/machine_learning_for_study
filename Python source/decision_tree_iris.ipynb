{
 "cells": [
  {
   "cell_type": "markdown",
   "metadata": {
    "collapsed": false
   },
   "source": [
    "## Decision Trees - Introduction using the Iris dataset\n",
    "\n",
    "For this example we will use the infamous \"iris\" dataset (https://en.wikipedia.org/wiki/Iris_flower_data_set).\n",
    "A visualization of its first two dimensions, as well as its top three principal components can be found here: http://scikit-learn.org/stable/auto_examples/datasets/plot_iris_dataset.html#sphx-glr-auto-examples-datasets-plot-iris-dataset-py\n",
    "\n",
    "(Based on code examples from Google Developer Machine Learning Series)\n",
    "\n",
    "\n"
   ]
  },
  {
   "cell_type": "code",
   "execution_count": null,
   "metadata": {
    "collapsed": false
   },
   "outputs": [],
   "source": [
    "# Import important libraries to use in the machine learning process. \n",
    "\n",
    "## For any libraries not automatically loaded (e.g. pydotplus and graphviz), you may install them using the command \"pip install xyz\"\n",
    "\n",
    "from sklearn import datasets #Import pool of datasets \n",
    "from sklearn.model_selection import train_test_split # Used to split the dataset effeciently\n",
    "from sklearn import tree\n",
    "from sklearn.metrics import accuracy_score\n",
    "from sklearn.externals.six import StringIO\n",
    "import graphviz #Used for visualization of the tree \n",
    "import pydotplus\n",
    "# import pydot\n",
    "from PIL import Image\n"
   ]
  },
  {
   "cell_type": "markdown",
   "metadata": {},
   "source": [
    "### Loading the dataset and preparing for training\n",
    "\n",
    "The data set contains 3 classes of 50 instances each, where each class refers to a type of iris plant.\n",
    "\n",
    "#### Features:\n",
    "\n",
    "1. sepal length in cm \n",
    "2. sepal width in cm \n",
    "3. petal length in cm \n",
    "4. petal width in cm \n",
    "\n",
    "#### Target Classes:\n",
    "\n",
    "Iris Setosa --> 0 <br>\n",
    "Iris Versicolour --> 1 <br>\n",
    "Iris Virginica --> 2 <br>\n",
    "\n"
   ]
  },
  {
   "cell_type": "code",
   "execution_count": null,
   "metadata": {
    "collapsed": false
   },
   "outputs": [],
   "source": [
    "# Loading the IRIS dataset which consist of 3 types of irises. This dataset comes with the sklearn distribution\n",
    "iris = datasets.load_iris()\n",
    "\n",
    "print('Total no of observations:',len(iris.target))\n",
    "print('Feature names:',iris.feature_names)\n",
    "\n",
    "#display first 10 rows from feature data\n",
    "print('Data(first 10):',iris.data[0:10])\n",
    "\n",
    "\n"
   ]
  },
  {
   "cell_type": "code",
   "execution_count": null,
   "metadata": {
    "collapsed": false,
    "scrolled": true
   },
   "outputs": [],
   "source": [
    "print('Target names:',iris.target_names)\n",
    "\n",
    "# Display first 10 rows from target data\n",
    "print('Target(first 10):',iris.target[:10])\n"
   ]
  },
  {
   "cell_type": "markdown",
   "metadata": {},
   "source": [
    "We need to tell our program which part of the dataset is the observation (i.e. attributes) and which part is the target variable. "
   ]
  },
  {
   "cell_type": "code",
   "execution_count": null,
   "metadata": {
    "collapsed": true
   },
   "outputs": [],
   "source": [
    "# Assigning data and target to variables x and y.\n",
    "x = iris.data\n",
    "y = iris.target"
   ]
  },
  {
   "cell_type": "markdown",
   "metadata": {},
   "source": [
    "For training the machine we need to select some part of the dataset and feed it into our model. This training dataset is really important as it trains our model to predict the right class. A trained model is then tested using the Testing dataset.\n",
    "\n",
    "To begin with,  the prefered train:test set splitting ratio is 70:30 or 80:20. (70% entries for training and 30% for testing performance of the model.) \n"
   ]
  },
  {
   "cell_type": "code",
   "execution_count": null,
   "metadata": {
    "collapsed": false
   },
   "outputs": [],
   "source": [
    "# Splitting the data into train and test set using a module of python\n",
    "# test_size is 30% dataset and remaining 70% is used for training.\n",
    "x_train, x_test, y_train, y_test = train_test_split(x, y, test_size=0.30, random_state=2)\n",
    "\n",
    "# Dimensions of each\n",
    "print('\\n x_train',x_train.shape, '\\n y_train', y_train.shape, '\\n x_test',x_test.shape, '\\n y_test', y_test.shape)\n",
    "\n",
    "\n",
    "print('No of observations in training set:', len(x_train))\n",
    "print('No of observations in testing set:', len(x_test))\n"
   ]
  },
  {
   "cell_type": "markdown",
   "metadata": {},
   "source": [
    "### Training the model\n",
    "\n",
    "We will now use the DecisionTreeClassifier function to train our model. We first need to define the paramenters (e.g. which purity criterion to use, what is the maximum depth of the tree, etc.). Details on the various parameters can be found here: http://scikit-learn.org/stable/modules/generated/sklearn.tree.DecisionTreeClassifier.html"
   ]
  },
  {
   "cell_type": "code",
   "execution_count": null,
   "metadata": {
    "collapsed": false
   },
   "outputs": [],
   "source": [
    "# Declaring a Decision Tree Classifier using module 'tree'\n",
    "# max_depth is the maximum depth of our tree model. Setting it to \"none\" lets the tree grow (thus no pre-pruning is applied). \n",
    "#We can configure the tree using other parameters to. \n",
    "\n",
    "dtc = tree.DecisionTreeClassifier(max_depth= None)\n",
    "\n",
    "#Call this to see the default values for all parameters\n",
    "#dtc \n"
   ]
  },
  {
   "cell_type": "code",
   "execution_count": null,
   "metadata": {
    "collapsed": false
   },
   "outputs": [],
   "source": [
    "# Training the model. \n",
    "# We \"fit\" the tree to our training data\n",
    "dtc.fit(x_train,y_train)\n",
    "\n",
    "print('Model trained') \n",
    "\n",
    "# Now predicting for the test set.\n",
    "y_predictions = dtc.predict(x_test)\n",
    "\n",
    "# We can see that the results are stored in the form of array.\n",
    "y_predictions"
   ]
  },
  {
   "cell_type": "code",
   "execution_count": null,
   "metadata": {
    "collapsed": false
   },
   "outputs": [],
   "source": [
    "# Accuracy is calculated by comparing the true results with the predicted results.\n",
    "# Accuracy = True prediction in test / Total no of observations in test\n",
    "\n",
    "\n",
    "print('Accuracy for given train:test split = ',accuracy_score(y_test, y_predictions))\n",
    "\n"
   ]
  },
  {
   "cell_type": "code",
   "execution_count": null,
   "metadata": {
    "collapsed": false
   },
   "outputs": [],
   "source": [
    "\n",
    "### What would happen if we calculated accuracy for the training set?\n",
    "### Enter your code here...\n",
    "### What do you see? Why does this happen?\n"
   ]
  },
  {
   "cell_type": "markdown",
   "metadata": {},
   "source": [
    "## Decision Tree Visualization\n",
    "The tree visualization shows how the algorithms thinks when it is trying to predict. It asks questions starting from the root to the leaf of the tree. Based on the answers( True or False) to those question, the final category or the next question is decided. \n",
    "\n",
    "When we allow more depth to the tree, we actually allow our model to as more no of questions to predict the category."
   ]
  },
  {
   "cell_type": "code",
   "execution_count": null,
   "metadata": {
    "collapsed": false
   },
   "outputs": [],
   "source": [
    "# Saving decision tree in DOT format for creating a graph.\n",
    "# DOT is a graph description language. DOT graphs are typically files with the file extension gv or dot. \n",
    "\n",
    "dot_data = StringIO()\n",
    "tree.export_graphviz(dtc,\n",
    "                     out_file = dot_data,\n",
    "                     feature_names = iris.feature_names,\n",
    "                     class_names= iris.target_names, \n",
    "                     filled = True,\n",
    "                     rounded = True,\n",
    "                     impurity = False\n",
    "                    )"
   ]
  },
  {
   "cell_type": "code",
   "execution_count": null,
   "metadata": {
    "collapsed": false
   },
   "outputs": [],
   "source": [
    "graph = pydotplus.graph_from_dot_data(dot_data.getvalue())\n",
    "graph.write_jpg('iris.jpg')  #save graph as image\n",
    "print('File saved as a JPG.')"
   ]
  },
  {
   "cell_type": "code",
   "execution_count": null,
   "metadata": {
    "collapsed": false
   },
   "outputs": [],
   "source": [
    "img = Image.open('iris.jpg') # Open the saved image\n",
    "img"
   ]
  },
  {
   "cell_type": "markdown",
   "metadata": {
    "collapsed": false
   },
   "source": [
    "#### Feature Importance in trees\n",
    "Finally, let's get some insights on the tree by looking closer on the different features and their importance in the prediction process.\n",
    "\n",
    "\"Feature importance\" summary rates how important each feature is for the decision a tree makes. It's a number between 0 and 1 for each feature, where 0 means \"not used at all\" and 1 means \"perfectly predicts the target\". The feature importances always sum to 1."
   ]
  },
  {
   "cell_type": "code",
   "execution_count": null,
   "metadata": {
    "collapsed": false
   },
   "outputs": [],
   "source": [
    "print(\"Feature importances:\\n{}\".format(dtc.feature_importances_))"
   ]
  },
  {
   "cell_type": "markdown",
   "metadata": {
    "collapsed": true
   },
   "source": [
    "## Links for reference:\n",
    "\n",
    "http://scikit-learn.org/stable/modules/generated/sklearn.tree.DecisionTreeClassifier.html\n",
    "\n",
    "http://scikit-learn.org/stable/modules/generated/sklearn.tree.export_graphviz.html\n"
   ]
  },
  {
   "cell_type": "code",
   "execution_count": null,
   "metadata": {
    "collapsed": true
   },
   "outputs": [],
   "source": []
  }
 ],
 "metadata": {
  "kernelspec": {
   "display_name": "Python [default]",
   "language": "python",
   "name": "python3"
  },
  "language_info": {
   "codemirror_mode": {
    "name": "ipython",
    "version": 3
   },
   "file_extension": ".py",
   "mimetype": "text/x-python",
   "name": "python",
   "nbconvert_exporter": "python",
   "pygments_lexer": "ipython3",
   "version": "3.5.2"
  }
 },
 "nbformat": 4,
 "nbformat_minor": 2
}
