{
 "cells": [
  {
   "cell_type": "markdown",
   "metadata": {},
   "source": [
    "## Classifier Evaluation\n",
    "\n",
    "Based on code example of \"An Introduction to Machine Learning with Python\" by A.C. Muller and S. Guido (O'Reilly). Adapted by M. Eirinaki.\n",
    "\n",
    "Note: For this tutorial you will need to use the authors' helper functions included in the helper library mglearn. You will also need the helper function preamble.py. Download both from: https://github.com/amueller/introduction_to_ml_with_python"
   ]
  },
  {
   "cell_type": "code",
   "execution_count": 1,
   "metadata": {
    "hide_input": false
   },
   "outputs": [],
   "source": [
    "from preamble import *\n",
    "%matplotlib inline"
   ]
  },
  {
   "cell_type": "markdown",
   "metadata": {},
   "source": [
    "## Model evaluation and improvement"
   ]
  },
  {
   "cell_type": "markdown",
   "metadata": {},
   "source": [
    "So far we have been using the train_test_split function to split our dataset in training and test set (default values 75%-25%). "
   ]
  },
  {
   "cell_type": "code",
   "execution_count": 14,
   "metadata": {},
   "outputs": [
    {
     "name": "stdout",
     "output_type": "stream",
     "text": [
      "Test set score: 0.97\n"
     ]
    }
   ],
   "source": [
    "from sklearn.tree import DecisionTreeClassifier\n",
    "from sklearn.model_selection import train_test_split\n",
    "from sklearn.datasets import load_iris\n",
    "\n",
    "iris = load_iris()\n",
    "# split data and labels into a training and a test set\n",
    "X_train, X_test, y_train, y_test = train_test_split(iris.data, iris.target, random_state=0)\n",
    "# Instantiate a model and fit it to the training set\n",
    "tree = DecisionTreeClassifier().fit(X_train, y_train)\n",
    "# evaluate the model on the test set using accuracy\n",
    "print(\"Test set score: {:.2f}\".format(tree.score(X_test, y_test)))"
   ]
  },
  {
   "cell_type": "markdown",
   "metadata": {},
   "source": [
    "### Cross-validation\n",
    "\n",
    "K-fold cross-validation (where k is a user-specified number, usually set to 5 or 10) is a more robust way to assess generalization performance (or perform hyperparameter tuning as we will see later). "
   ]
  },
  {
   "cell_type": "code",
   "execution_count": 15,
   "metadata": {
    "hide_input": false
   },
   "outputs": [
    {
     "name": "stderr",
     "output_type": "stream",
     "text": [
      "/anaconda3/lib/python3.6/site-packages/matplotlib/pyplot.py:2790: MatplotlibDeprecationWarning: The *bottom* kwarg to `barh` is deprecated use *y* instead. Support for *bottom* will be removed in Matplotlib 3.0\n",
      "  ret = ax.barh(*args, **kwargs)\n"
     ]
    },
    {
     "data": {
      "image/png": "[encoded data removed]",
      "text/plain": [
       "<Figure size 864x144 with 1 Axes>"
      ]
     },
     "metadata": {},
     "output_type": "display_data"
    }
   ],
   "source": [
    "#visualization of 5-fold cross-validation\n",
    "mglearn.plots.plot_cross_validation()"
   ]
  },
  {
   "cell_type": "markdown",
   "metadata": {},
   "source": [
    "#### Cross-validation in scikit-learn\n",
    "\n",
    "One way to perform cross-validation is by calling the cross_val_score function\n",
    "(note that there are more than one ways to do it)."
   ]
  },
  {
   "cell_type": "code",
   "execution_count": 30,
   "metadata": {},
   "outputs": [
    {
     "name": "stdout",
     "output_type": "stream",
     "text": [
      "Cross-validation scores: [0.967 0.967 0.9   1.    1.   ]\n"
     ]
    }
   ],
   "source": [
    "from sklearn.model_selection import cross_val_score\n",
    "from sklearn.datasets import load_iris\n",
    "from sklearn.tree import DecisionTreeClassifier\n",
    "\n",
    "iris = load_iris()\n",
    "tree = DecisionTreeClassifier()\n",
    "\n",
    "scores = cross_val_score(tree, iris.data, iris.target, cv=5) \n",
    "#cv: determines the strategy to be used. If integer, it represents number of folds \n",
    "print(\"Cross-validation scores: {}\".format(scores))"
   ]
  },
  {
   "cell_type": "code",
   "execution_count": 31,
   "metadata": {},
   "outputs": [
    {
     "name": "stdout",
     "output_type": "stream",
     "text": [
      "Average cross-validation score: 0.97\n"
     ]
    }
   ],
   "source": [
    "print(\"Average cross-validation score: {:.2f}\".format(scores.mean()))"
   ]
  },
  {
   "cell_type": "markdown",
   "metadata": {},
   "source": [
    "Note that cross-validation generates an average score (in this case accuracy), but will not output which model is the best. \n",
    "\n",
    "For integer/None inputs, if the estimator is a classifier and y is either binary or multiclass, StratifiedKFold is used (i.e., the folds are stratified). In all other cases, KFold is used."
   ]
  },
  {
   "cell_type": "markdown",
   "metadata": {},
   "source": [
    "### Grid Search\n",
    "\n",
    "One of the main steps when fitting a model is hyperparameter tuning. For algorithms that have one or more parameters to set, we need to evaluate which combination works best for our dataset. \n",
    "\n",
    "This inherently creates a \"grid\" of options. \n",
    "\n",
    "For example, consider the case of using Random Forest as the classifier. We need to define parameters such as number of estimators (trees) and maximum depth.\n",
    "\n",
    "We could evaluate those via a for-loop, iterating through all the possible combinations and keeping the parameters that yield the best score."
   ]
  },
  {
   "cell_type": "markdown",
   "metadata": {},
   "source": [
    "#### Simple Grid-Search"
   ]
  },
  {
   "cell_type": "code",
   "execution_count": 38,
   "metadata": {},
   "outputs": [
    {
     "name": "stdout",
     "output_type": "stream",
     "text": [
      "Size of training set: 112   size of test set: 38\n",
      "Best score: 0.97\n",
      "Best parameters: {'n_estimators': 3, 'max_depth': 2}\n"
     ]
    }
   ],
   "source": [
    "# naive grid search implementation\n",
    "from sklearn.ensemble import RandomForestClassifier\n",
    "X_train, X_test, y_train, y_test = train_test_split(iris.data, iris.target,\n",
    "                                                    random_state=0)\n",
    "print(\"Size of training set: {}   size of test set: {}\".format(\n",
    "      X_train.shape[0], X_test.shape[0]))\n",
    "\n",
    "best_score = 0\n",
    "\n",
    "for n_estimators in [1, 3, 5, 10]:\n",
    "    for max_depth in [1, 2, 3]:\n",
    "        # for each combination of parameters\n",
    "        # train a Random Forest\n",
    "        rf = RandomForestClassifier(n_estimators = n_estimators, max_depth = max_depth, random_state = 10)\n",
    "        rf.fit(X_train, y_train)\n",
    "        # evaluate the Random Forest on the test set \n",
    "        score = rf.score(X_test, y_test)\n",
    "        # if we got a better score, store the score and parameters\n",
    "        if score > best_score:\n",
    "            best_score = score\n",
    "            best_parameters = {'n_estimators': n_estimators, 'max_depth': max_depth}\n",
    "            \n",
    "print(\"Best score: {:.2f}\".format(best_score))\n",
    "print(\"Best parameters: {}\".format(best_parameters))"
   ]
  },
  {
   "cell_type": "markdown",
   "metadata": {},
   "source": [
    "### The danger of overfitting the parameters, and the validation set\n",
    "\n",
    "The reported accuracy, while looks great, won't necessarily carry over to new (unseen) data. This is because we used the test data to adjust the parameters. Any decisions made based on the test set accuracy \"leak\" information from the test set into the model. If we use the same model to adjust the parameters AND decide on the best model, we essentially overfit it. \n",
    "\n",
    "Therefore, it is good practice to use a \"validation\" set, particularly used to adjust the parameters, and keep a separate set (\"test\" set) which is only used for the final evaluation. "
   ]
  },
  {
   "cell_type": "code",
   "execution_count": 19,
   "metadata": {
    "hide_input": false
   },
   "outputs": [
    {
     "data": {
      "image/png": "[encoded data removed]",
      "text/plain": [
       "<matplotlib.figure.Figure at 0x7f35e3058278>"
      ]
     },
     "metadata": {},
     "output_type": "display_data"
    }
   ],
   "source": [
    "mglearn.plots.plot_threefold_split()"
   ]
  },
  {
   "cell_type": "markdown",
   "metadata": {},
   "source": [
    "We can first split our data to \"training+validation\" and \"test\" sets, as previously. \n",
    "Then, the \"training+validation\" set can be spit for hyperparameter tuning, either using the same approach (train_test_split) or using n-fold cross-validation. \n",
    "\n",
    "We then build the model with the combined training + validation set (with optimal parameters) and evaluate against the test set. \n",
    "\n",
    "#### Variation 1: Manual grid search with train_test_split for both subsets"
   ]
  },
  {
   "cell_type": "code",
   "execution_count": 39,
   "metadata": {},
   "outputs": [
    {
     "name": "stdout",
     "output_type": "stream",
     "text": [
      "Size of training set: 84   size of validation set: 28   size of test set: 38\n",
      "\n",
      "Best score on validation set: 0.97\n",
      "Best parameters:  {'n_estimators': 3, 'max_depth': 2}\n",
      "Test set score with best parameters: 0.92\n"
     ]
    }
   ],
   "source": [
    "#from sklearn.ensemble import RandomForestClassifier\n",
    "# split data into train+validation set and test set\n",
    "X_trainval, X_test, y_trainval, y_test = train_test_split(\n",
    "    iris.data, iris.target, random_state=0)\n",
    "\n",
    "# split train+validation set into training and validation set\n",
    "X_train, X_valid, y_train, y_valid = train_test_split(\n",
    "    X_trainval, y_trainval, random_state=1)\n",
    "print(\"Size of training set: {}   size of validation set: {}   size of test set:\"\n",
    "      \" {}\\n\".format(X_train.shape[0], X_valid.shape[0], X_test.shape[0]))\n",
    "\n",
    "best_score = 0\n",
    "\n",
    "for n_estimators in [1, 3, 5, 10]:\n",
    "    for max_depth in [1, 2, 3]:\n",
    "        # for each combination of parameters\n",
    "        # train a Random Forest\n",
    "        rf = RandomForestClassifier(n_estimators = n_estimators, max_depth = max_depth, random_state = 10)\n",
    "        rf.fit(X_train, y_train)\n",
    "        # evaluate the Random Forest on the test set \n",
    "        score = rf.score(X_test, y_test)\n",
    "        # if we got a better score, store the score and parameters\n",
    "        if score > best_score:\n",
    "            best_score = score\n",
    "            best_parameters = {'n_estimators': n_estimators, 'max_depth': max_depth}\n",
    "            \n",
    "            \n",
    "# rebuild a model on the combined training and validation set,\n",
    "# and evaluate it on the test set\n",
    "rf = RandomForestClassifier(**best_parameters)\n",
    "rf.fit(X_trainval, y_trainval)\n",
    "test_score = rf.score(X_test, y_test)\n",
    "print(\"Best score on validation set: {:.2f}\".format(best_score))\n",
    "print(\"Best parameters: \", best_parameters)\n",
    "print(\"Test set score with best parameters: {:.2f}\".format(test_score))"
   ]
  },
  {
   "cell_type": "markdown",
   "metadata": {},
   "source": [
    "Notice how the new accuracy is lower than the previous one.\n",
    "\n",
    "#### Variation 2: Manual Grid-search with cross-validation"
   ]
  },
  {
   "cell_type": "code",
   "execution_count": 41,
   "metadata": {},
   "outputs": [
    {
     "name": "stdout",
     "output_type": "stream",
     "text": [
      "Best score on validation set: 0.95\n",
      "Best parameters:  {'n_estimators': 1, 'max_depth': 2}\n",
      "Test set score with best parameters: 0.97\n"
     ]
    }
   ],
   "source": [
    "# split data into train+validation set and test set\n",
    "X_trainval, X_test, y_trainval, y_test = train_test_split(\n",
    "    iris.data, iris.target, random_state=0)\n",
    "\n",
    "best_score = 0\n",
    "\n",
    "for n_estimators in [1, 3, 5, 10]:\n",
    "    for max_depth in [1, 2, 3]:\n",
    "        # for each combination of parameters\n",
    "        # train a Random Forest\n",
    "        rf = RandomForestClassifier(n_estimators = n_estimators, max_depth = max_depth, random_state = 10)\n",
    "        # perform cross-validation\n",
    "        scores = cross_val_score(rf, X_trainval, y_trainval, cv=5) #notice that we use the original training+validation set here\n",
    "        # compute mean cross-validation accuracy\n",
    "        score = np.mean(scores)\n",
    "        # if we got a better score, store the score and parameters\n",
    "        if score > best_score:\n",
    "            best_score = score\n",
    "            best_parameters = {'n_estimators': n_estimators, 'max_depth': max_depth}\n",
    "            \n",
    "            \n",
    "# rebuild a model on the combined training and validation set\n",
    "rf = RandomForestClassifier(**best_parameters)\n",
    "rf.fit(X_trainval, y_trainval)\n",
    "\n",
    "test_score = rf.score(X_test, y_test)\n",
    "print(\"Best score on validation set: {:.2f}\".format(best_score))\n",
    "print(\"Best parameters: \", best_parameters)\n",
    "print(\"Test set score with best parameters: {:.2f}\".format(test_score))"
   ]
  },
  {
   "cell_type": "markdown",
   "metadata": {},
   "source": [
    "Notice here how best score on validation set is lower (because we are reporting average over n folds)\n",
    "\n",
    "#### Variation 3: Using the GridSearchCV class to perform grid search\n",
    "\n",
    "Instead of the nested for loops, you can use the GridSearchCV class, which implements grid search with cross-validation in the form of an estimator. \n"
   ]
  },
  {
   "cell_type": "code",
   "execution_count": 48,
   "metadata": {},
   "outputs": [
    {
     "name": "stdout",
     "output_type": "stream",
     "text": [
      "Best parameters: {'max_depth': 3, 'n_estimators': 3}\n",
      "Best cross-validation score: 0.96\n",
      "Best estimator:\n",
      "RandomForestClassifier(bootstrap=True, class_weight=None, criterion='gini',\n",
      "            max_depth=3, max_features='auto', max_leaf_nodes=None,\n",
      "            min_impurity_decrease=0.0, min_impurity_split=None,\n",
      "            min_samples_leaf=1, min_samples_split=2,\n",
      "            min_weight_fraction_leaf=0.0, n_estimators=3, n_jobs=1,\n",
      "            oob_score=False, random_state=None, verbose=0,\n",
      "            warm_start=False)\n",
      "Test set score: 0.95\n"
     ]
    }
   ],
   "source": [
    "from sklearn.model_selection import GridSearchCV\n",
    "\n",
    "#Set the parameters you want to evaluate \n",
    "param_grid = {'n_estimators':  [1, 3, 5, 10],\n",
    "              'max_depth': [1, 2, 3]}\n",
    "#create the GridSearch object for the Random Forest classifier passing the parameters\n",
    "grid_search = GridSearchCV(RandomForestClassifier(), param_grid, cv=5)\n",
    "\n",
    "\n",
    "# split data into train set and test set\n",
    "X_trainval, X_test, y_trainval, y_test = train_test_split(\n",
    "    iris.data, iris.target, random_state=0)\n",
    "#fit data to the model -- cross validation will be performed during grid search\n",
    "grid_search.fit(X_trainval, y_train)\n",
    "\n",
    "\n",
    "print(\"Best parameters: {}\".format(grid_search.best_params_))\n",
    "print(\"Best cross-validation score: {:.2f}\".format(grid_search.best_score_))\n",
    "#you can also print the best estimator:\n",
    "print(\"Best estimator:\\n{}\".format(grid_search.best_estimator_))\n",
    "\n",
    "print(\"Test set score: {:.2f}\".format(grid_search.score(X_test, y_test)))"
   ]
  },
  {
   "cell_type": "markdown",
   "metadata": {},
   "source": [
    "### Visualization of the entire process"
   ]
  },
  {
   "cell_type": "code",
   "execution_count": 43,
   "metadata": {
    "hide_input": false,
    "scrolled": false
   },
   "outputs": [
    {
     "data": {
      "image/png": "[encoded data removed]",
      "text/plain": [
       "<Figure size 720x216 with 1 Axes>"
      ]
     },
     "metadata": {},
     "output_type": "display_data"
    }
   ],
   "source": [
    "mglearn.plots.plot_grid_search_overview()"
   ]
  }
 ],
 "metadata": {
  "anaconda-cloud": {},
  "kernelspec": {
   "display_name": "Python 3",
   "language": "python",
   "name": "python3"
  },
  "language_info": {
   "codemirror_mode": {
    "name": "ipython",
    "version": 3
   },
   "file_extension": ".py",
   "mimetype": "text/x-python",
   "name": "python",
   "nbconvert_exporter": "python",
   "pygments_lexer": "ipython3",
   "version": "3.6.5"
  }
 },
 "nbformat": 4,
 "nbformat_minor": 1
}
